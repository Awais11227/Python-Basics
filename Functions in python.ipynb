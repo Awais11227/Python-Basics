{
 "cells": [
  {
   "cell_type": "markdown",
   "metadata": {},
   "source": [
    "# Function in python \n",
    "# By Awais Manzoor\n",
    "# Data Analyst\n"
   ]
  },
  {
   "cell_type": "markdown",
   "metadata": {},
   "source": [
    "# Function"
   ]
  },
  {
   "cell_type": "code",
   "execution_count": 2,
   "metadata": {},
   "outputs": [
    {
     "name": "stdout",
     "output_type": "stream",
     "text": [
      "\n",
      "Favorite Book\n",
      "My favorite books are 'The Alchemist' and 'Python Crash Course'\n"
     ]
    }
   ],
   "source": [
    "#  Positional arguments\n",
    "def favorite_book(management, python):\n",
    "    management = \"The Alchemist\"\n",
    "    python = \"Python Crash Course\"\n",
    "    \"\"\"Display a favorite book\"\"\"\n",
    "    print(\"\\nFavorite Book\".title())\n",
    "    print(f\"My favorite books are '{management}' and '{python}'\")\n",
    "favorite_book(\"The Alchemist\", \"Python Crash Course\")\n",
    "\n",
    "\n"
   ]
  },
  {
   "cell_type": "code",
   "execution_count": 3,
   "metadata": {},
   "outputs": [
    {
     "name": "stdout",
     "output_type": "stream",
     "text": [
      "14 Feet= 1175.86 cm\n"
     ]
    }
   ],
   "source": [
    "# converter function \n",
    "def converter(feet_value):\n",
    "    cm_value = feet_value * 83.99\n",
    "    print(feet_value, \"Feet=\", cm_value, \"cm\")\n",
    "converter(14)"
   ]
  },
  {
   "cell_type": "code",
   "execution_count": 8,
   "metadata": {},
   "outputs": [
    {
     "name": "stdout",
     "output_type": "stream",
     "text": [
      "odd\n",
      "even\n",
      "odd\n",
      "even\n",
      "odd\n",
      "even\n",
      "odd\n",
      "even\n",
      "odd\n",
      "even\n"
     ]
    }
   ],
   "source": [
    "# making a function  \n",
    "def is_even(num):\n",
    "    \"\"\" print output if number is even or odd \"\"\"\n",
    "    if type(num) == int:\n",
    "        if num % 2 == 0:\n",
    "            return \"even\"\n",
    "        else:\n",
    "            return \"odd\"\n",
    "    else:\n",
    "        return \"nhi aba \"  \n",
    "for i in range(1,11):\n",
    "    x = is_even(i)\n",
    "    print(x)\n",
    "    \n"
   ]
  },
  {
   "cell_type": "code",
   "execution_count": 5,
   "metadata": {},
   "outputs": [
    {
     "name": "stdout",
     "output_type": "stream",
     "text": [
      "odd\n",
      "even\n",
      "odd\n",
      "even\n",
      "odd\n",
      "even\n",
      "odd\n",
      "even\n",
      "odd\n",
      "even\n"
     ]
    }
   ],
   "source": [
    "# function\n",
    "# function_name(input)\n",
    "for i in range(1,11):\n",
    "  x = is_even(i)\n",
    "  print(x)"
   ]
  },
  {
   "cell_type": "code",
   "execution_count": 6,
   "metadata": {},
   "outputs": [
    {
     "name": "stdout",
     "output_type": "stream",
     "text": [
      "type(object) -> the object's type\n",
      "type(name, bases, dict, **kwds) -> a new type\n"
     ]
    }
   ],
   "source": [
    "print(type.__doc__)"
   ]
  },
  {
   "cell_type": "code",
   "execution_count": 9,
   "metadata": {},
   "outputs": [
    {
     "data": {
      "text/plain": [
       "'nhi aba '"
      ]
     },
     "execution_count": 9,
     "metadata": {},
     "output_type": "execute_result"
    }
   ],
   "source": [
    "is_even('hello')"
   ]
  },
  {
   "cell_type": "markdown",
   "metadata": {},
   "source": [
    "# Types of Arguments"
   ]
  },
  {
   "cell_type": "code",
   "execution_count": 10,
   "metadata": {},
   "outputs": [],
   "source": [
    "# Default arg\n",
    "def power(a=1,b=1):\n",
    "  return a**b"
   ]
  },
  {
   "cell_type": "code",
   "execution_count": 11,
   "metadata": {},
   "outputs": [
    {
     "data": {
      "text/plain": [
       "8"
      ]
     },
     "execution_count": 11,
     "metadata": {},
     "output_type": "execute_result"
    }
   ],
   "source": [
    "# positional argument\n",
    "power(2,3)"
   ]
  },
  {
   "cell_type": "code",
   "execution_count": 12,
   "metadata": {},
   "outputs": [
    {
     "data": {
      "text/plain": [
       "8"
      ]
     },
     "execution_count": 12,
     "metadata": {},
     "output_type": "execute_result"
    }
   ],
   "source": [
    "# keyword argument\n",
    "power(b=3,a=2)"
   ]
  },
  {
   "cell_type": "markdown",
   "metadata": {},
   "source": [
    "# *args and **kwargs"
   ]
  },
  {
   "cell_type": "code",
   "execution_count": 13,
   "metadata": {},
   "outputs": [
    {
     "name": "stdout",
     "output_type": "stream",
     "text": [
      "(2, 4)\n"
     ]
    },
    {
     "data": {
      "text/plain": [
       "2"
      ]
     },
     "execution_count": 13,
     "metadata": {},
     "output_type": "execute_result"
    }
   ],
   "source": [
    "# making a function \n",
    "# use args for allow any value of keyword arguments \n",
    "def multiply(* args):\n",
    "    product = 1\n",
    "    for i in args:\n",
    "        product =product * i\n",
    "        print(args)\n",
    "        return product\n",
    "    # calling a function \n",
    "multiply(2,4)"
   ]
  },
  {
   "cell_type": "code",
   "execution_count": 14,
   "metadata": {},
   "outputs": [],
   "source": [
    "def multiply(*kwargs):\n",
    "  product = 1\n",
    "\n",
    "  for i in kwargs:\n",
    "    product = product * i\n",
    "\n",
    "  print(kwargs)\n",
    "  return product"
   ]
  },
  {
   "cell_type": "code",
   "execution_count": 15,
   "metadata": {},
   "outputs": [
    {
     "name": "stdout",
     "output_type": "stream",
     "text": [
      "(100, 200, 300, 400, 500)\n"
     ]
    },
    {
     "data": {
      "text/plain": [
       "1200000000000"
      ]
     },
     "execution_count": 15,
     "metadata": {},
     "output_type": "execute_result"
    }
   ],
   "source": [
    "multiply(100,200,300,400,500)"
   ]
  },
  {
   "cell_type": "code",
   "execution_count": 16,
   "metadata": {},
   "outputs": [],
   "source": [
    "def display(**salman):\n",
    "\n",
    "  for (key,value) in salman.items():\n",
    "    print(key,'->',value)"
   ]
  },
  {
   "cell_type": "code",
   "execution_count": 17,
   "metadata": {},
   "outputs": [
    {
     "name": "stdout",
     "output_type": "stream",
     "text": [
      "None\n",
      "[1, 2, 3, 4]\n"
     ]
    }
   ],
   "source": [
    "L = [1,2,3]\n",
    "print(L.append(4))\n",
    "print(L)"
   ]
  },
  {
   "cell_type": "code",
   "execution_count": 18,
   "metadata": {},
   "outputs": [
    {
     "name": "stdout",
     "output_type": "stream",
     "text": [
      "5\n",
      "6\n",
      "5\n"
     ]
    }
   ],
   "source": [
    "def g(y):\n",
    "    print(x)\n",
    "    print(x+1)\n",
    "x = 5\n",
    "g(x)\n",
    "print(x)"
   ]
  },
  {
   "cell_type": "markdown",
   "metadata": {},
   "source": [
    "# Converter "
   ]
  },
  {
   "cell_type": "code",
   "execution_count": 19,
   "metadata": {},
   "outputs": [
    {
     "name": "stdout",
     "output_type": "stream",
     "text": [
      "1000 feet= 30480.0 cm\n"
     ]
    }
   ],
   "source": [
    "def convrt(feet):\n",
    "    cm = feet * 30.48\n",
    "    print(feet, \"feet=\", cm, \"cm\")\n",
    "convrt(1000)"
   ]
  },
  {
   "cell_type": "code",
   "execution_count": 20,
   "metadata": {},
   "outputs": [
    {
     "name": "stdout",
     "output_type": "stream",
     "text": [
      "13333 USD = 5333200 INR\n"
     ]
    }
   ],
   "source": [
    "def converter(Usd_value):\n",
    "    Inr_value = Usd_value * 400\n",
    "    print(Usd_value, \"USD =\", Inr_value, \"INR\")\n",
    "converter(13333)"
   ]
  },
  {
   "cell_type": "code",
   "execution_count": 21,
   "metadata": {},
   "outputs": [
    {
     "name": "stdout",
     "output_type": "stream",
     "text": [
      "5500\n"
     ]
    }
   ],
   "source": [
    "# function defination it is block of satetement that perform a specific task\n",
    "# reduce redendency\n",
    "def cal_sum(a, b): #parameters\n",
    "    \"\"\"Display a sum of two numbers \"\"\"\n",
    "    return a + b\n",
    "sum = cal_sum(2200,3300) # function call; arguments\n",
    "print(sum) #output 5500"
   ]
  },
  {
   "cell_type": "code",
   "execution_count": 22,
   "metadata": {},
   "outputs": [
    {
     "name": "stdout",
     "output_type": "stream",
     "text": [
      "20.0\n"
     ]
    },
    {
     "data": {
      "text/plain": [
       "96.66666666666667"
      ]
     },
     "execution_count": 22,
     "metadata": {},
     "output_type": "execute_result"
    }
   ],
   "source": [
    "# average of 3 numbers\n",
    "def calc_avg(a,b,c):\n",
    "    return (a+b+c)/3\n",
    "# calculate average of 3 numbers\n",
    "print(calc_avg(10,20,30))  # Output: 20.0\n",
    "\n",
    "# other method\n",
    "def calc_avg(a,b,c):\n",
    "    sum = a+b+c\n",
    "    avg = sum/3\n",
    "    return avg\n",
    "calc_avg(98, 97, 95)\n",
    "    "
   ]
  },
  {
   "cell_type": "code",
   "execution_count": null,
   "metadata": {},
   "outputs": [],
   "source": [
    "def multiply(x, y):\n",
    "    \"\"\"Return the product of x and y\"\"\"\n",
    "    return x * y\n",
    "\n",
    "x = int(input(\"Input a number: \"))\n",
    "y = int(input(\"Enter another number: \"))\n",
    "\n",
    "print(\"Result: \", multiply(x, y))\n"
   ]
  },
  {
   "cell_type": "code",
   "execution_count": 23,
   "metadata": {},
   "outputs": [
    {
     "name": "stdout",
     "output_type": "stream",
     "text": [
      "HelloWorld\n"
     ]
    }
   ],
   "source": [
    "# Function types\n",
    "# Built in and user defind\n",
    "\n",
    "print(\"Hello\", end=\"\")\n",
    "print(\"World\")\n"
   ]
  },
  {
   "cell_type": "code",
   "execution_count": 24,
   "metadata": {},
   "outputs": [
    {
     "name": "stdout",
     "output_type": "stream",
     "text": [
      "42\n"
     ]
    },
    {
     "data": {
      "text/plain": [
       "42"
      ]
     },
     "execution_count": 24,
     "metadata": {},
     "output_type": "execute_result"
    }
   ],
   "source": [
    "# Defalt parameters\n",
    "def cal_prod(a=1,b=1):\n",
    "    print(a * b)\n",
    "    return a * b\n",
    "# Call the function with default parameters\n",
    "cal_prod(6,7)"
   ]
  },
  {
   "cell_type": "code",
   "execution_count": 25,
   "metadata": {},
   "outputs": [
    {
     "name": "stdout",
     "output_type": "stream",
     "text": [
      "3\n"
     ]
    }
   ],
   "source": [
    "cities = ['Taunsa', 'Karachi', 'Islamabd']\n",
    "\n",
    "def print_len(list):\n",
    "    print(len(list))\n",
    "\n",
    "print_len(cities)"
   ]
  },
  {
   "cell_type": "code",
   "execution_count": 26,
   "metadata": {},
   "outputs": [
    {
     "name": "stdout",
     "output_type": "stream",
     "text": [
      "Taunsa Karachi Islamabd "
     ]
    }
   ],
   "source": [
    "# in a single line printing\n",
    "cities = ['Taunsa', 'Karachi', 'Islamabd']\n",
    "def print_list(list):\n",
    "    for item in list:\n",
    "        print(item, end=\" \")\n",
    "print_list(cities)"
   ]
  },
  {
   "cell_type": "code",
   "execution_count": 28,
   "metadata": {},
   "outputs": [
    {
     "data": {
      "text/plain": [
       "2592273336736"
      ]
     },
     "execution_count": 28,
     "metadata": {},
     "output_type": "execute_result"
    }
   ],
   "source": [
    "# type and id\n",
    "def square(num):\n",
    "  return num**2\n",
    "\n",
    "type(square)\n",
    "\n",
    "id(square)"
   ]
  },
  {
   "cell_type": "code",
   "execution_count": 29,
   "metadata": {},
   "outputs": [
    {
     "name": "stdout",
     "output_type": "stream",
     "text": [
      "inside func_c\n",
      "inside func_a\n",
      "None\n"
     ]
    }
   ],
   "source": [
    "# # function as argument\n",
    "def func_a():\n",
    "    print('inside func_a')\n",
    "\n",
    "def func_b(z):\n",
    "    print('inside func_c')\n",
    "    return z()\n",
    "\n",
    "print(func_b(func_a))"
   ]
  },
  {
   "cell_type": "markdown",
   "metadata": {},
   "source": [
    "# factorial"
   ]
  },
  {
   "cell_type": "code",
   "execution_count": 27,
   "metadata": {},
   "outputs": [
    {
     "name": "stdout",
     "output_type": "stream",
     "text": [
      "6\n"
     ]
    }
   ],
   "source": [
    "# factorial calling \n",
    "def calc_fact(n):\n",
    "    fact = 1\n",
    "    for i in range(1, n + 1):\n",
    "        fact *= i\n",
    "    print(fact)\n",
    "\n",
    "calc_fact(3)"
   ]
  },
  {
   "cell_type": "markdown",
   "metadata": {},
   "source": [
    "# Recursion"
   ]
  },
  {
   "cell_type": "code",
   "execution_count": 30,
   "metadata": {},
   "outputs": [
    {
     "name": "stdout",
     "output_type": "stream",
     "text": [
      "10\n",
      "9\n",
      "8\n",
      "7\n",
      "6\n",
      "5\n",
      "4\n",
      "3\n",
      "2\n",
      "1\n"
     ]
    }
   ],
   "source": [
    "def show(n):\n",
    "    if n == 0:\n",
    "        return 0\n",
    "    print(n)\n",
    "    show(n-1)\n",
    "show(10)"
   ]
  },
  {
   "cell_type": "code",
   "execution_count": 31,
   "metadata": {},
   "outputs": [
    {
     "name": "stdout",
     "output_type": "stream",
     "text": [
      "5\n",
      "4\n",
      "3\n",
      "2\n",
      "1\n"
     ]
    }
   ],
   "source": [
    "# Recursion is same as it is loops \n",
    "def show(n):\n",
    "    if n == 0:\n",
    "        return\n",
    "    print(n)\n",
    "    show(n-1)\n",
    "\n",
    "show(5)"
   ]
  },
  {
   "cell_type": "code",
   "execution_count": 32,
   "metadata": {},
   "outputs": [
    {
     "name": "stdout",
     "output_type": "stream",
     "text": [
      "30\n"
     ]
    }
   ],
   "source": [
    "def fact(n):\n",
    "    if(n == 0 or n == 1):\n",
    "        return 1\n",
    "    else:\n",
    "        return (n-1) * n\n",
    "    \n",
    "print(fact(6))"
   ]
  },
  {
   "cell_type": "markdown",
   "metadata": {},
   "source": [
    "# Lambda"
   ]
  },
  {
   "cell_type": "code",
   "execution_count": 33,
   "metadata": {},
   "outputs": [
    {
     "data": {
      "text/plain": [
       "<function __main__.<lambda>(x)>"
      ]
     },
     "execution_count": 33,
     "metadata": {},
     "output_type": "execute_result"
    }
   ],
   "source": [
    "# A lambda function is a small anonymous function.\n",
    "lambda x:x**2"
   ]
  },
  {
   "cell_type": "code",
   "execution_count": 34,
   "metadata": {},
   "outputs": [
    {
     "data": {
      "text/plain": [
       "7"
      ]
     },
     "execution_count": 34,
     "metadata": {},
     "output_type": "execute_result"
    }
   ],
   "source": [
    "# x,y -> x+y\n",
    "a = lambda x,y:x+y\n",
    "a(5,2)"
   ]
  },
  {
   "cell_type": "code",
   "execution_count": 35,
   "metadata": {},
   "outputs": [
    {
     "data": {
      "text/plain": [
       "False"
      ]
     },
     "execution_count": 35,
     "metadata": {},
     "output_type": "execute_result"
    }
   ],
   "source": [
    "# check if a string has 'a'\n",
    "a = lambda s:'a' in s\n",
    "a('hello')"
   ]
  },
  {
   "cell_type": "markdown",
   "metadata": {},
   "source": [
    "# Higher Order Function"
   ]
  },
  {
   "cell_type": "code",
   "execution_count": 36,
   "metadata": {},
   "outputs": [
    {
     "name": "stdout",
     "output_type": "stream",
     "text": [
      "[1, 8, 27, 64, 125]\n"
     ]
    }
   ],
   "source": [
    "\n",
    "def square(x):\n",
    "  return x**2\n",
    "\n",
    "def cube(x):\n",
    "  return x**3\n",
    "\n",
    "# HOF\n",
    "def transform(f,L):\n",
    "  output = []\n",
    "  for i in L:\n",
    "    output.append(f(i))\n",
    "\n",
    "  print(output)\n",
    "\n",
    "L = [1,2,3,4,5]\n",
    "\n",
    "transform(lambda x:x**3,L)"
   ]
  },
  {
   "cell_type": "markdown",
   "metadata": {},
   "source": [
    "# Map"
   ]
  },
  {
   "cell_type": "code",
   "execution_count": 37,
   "metadata": {},
   "outputs": [
    {
     "data": {
      "text/plain": [
       "[1, 4, 9, 16, 25]"
      ]
     },
     "execution_count": 37,
     "metadata": {},
     "output_type": "execute_result"
    }
   ],
   "source": [
    "# square the items of a list\n",
    "list(map(lambda x:x**2,[1,2,3,4,5]))"
   ]
  },
  {
   "cell_type": "code",
   "execution_count": 38,
   "metadata": {},
   "outputs": [
    {
     "data": {
      "text/plain": [
       "['odd', 'even', 'odd', 'even', 'odd']"
      ]
     },
     "execution_count": 38,
     "metadata": {},
     "output_type": "execute_result"
    }
   ],
   "source": [
    "# odd/even labelling of list items\n",
    "L = [1,2,3,4,5]\n",
    "list(map(lambda x:'even' if x%2 == 0 else 'odd',L))"
   ]
  },
  {
   "cell_type": "code",
   "execution_count": 39,
   "metadata": {},
   "outputs": [
    {
     "data": {
      "text/plain": [
       "['male', 'male', 'female']"
      ]
     },
     "execution_count": 39,
     "metadata": {},
     "output_type": "execute_result"
    }
   ],
   "source": [
    "# fetch names from a list of dict\n",
    "\n",
    "users = [\n",
    "    {\n",
    "        'name':'Rahul',\n",
    "        'age':45,\n",
    "        'gender':'male'\n",
    "    },\n",
    "    {\n",
    "        'name':'Nitish',\n",
    "        'age':33,\n",
    "        'gender':'male'\n",
    "    },\n",
    "    {\n",
    "        'name':'Ankita',\n",
    "        'age':50,\n",
    "        'gender':'female'\n",
    "    }\n",
    "]\n",
    "\n",
    "list(map(lambda users:users['gender'],users))"
   ]
  },
  {
   "cell_type": "markdown",
   "metadata": {},
   "source": [
    "# Filter "
   ]
  },
  {
   "cell_type": "code",
   "execution_count": 40,
   "metadata": {},
   "outputs": [
    {
     "data": {
      "text/plain": [
       "[6, 7]"
      ]
     },
     "execution_count": 40,
     "metadata": {},
     "output_type": "execute_result"
    }
   ],
   "source": [
    "# numbers greater than 5\n",
    "L = [3,4,5,6,7]\n",
    "\n",
    "list(filter(lambda x:x>5,L))"
   ]
  },
  {
   "cell_type": "code",
   "execution_count": 41,
   "metadata": {},
   "outputs": [
    {
     "data": {
      "text/plain": [
       "['apple']"
      ]
     },
     "execution_count": 41,
     "metadata": {},
     "output_type": "execute_result"
    }
   ],
   "source": [
    "# fetch fruits starting with 'a'\n",
    "fruits = ['apple','guava','cherry']\n",
    "\n",
    "list(filter(lambda x:x.startswith('a'),fruits))"
   ]
  },
  {
   "cell_type": "markdown",
   "metadata": {},
   "source": [
    "# prepration of function"
   ]
  },
  {
   "cell_type": "code",
   "execution_count": 42,
   "metadata": {},
   "outputs": [
    {
     "data": {
      "text/plain": [
       "'One of my favorite books is Alice in Woderland.'"
      ]
     },
     "execution_count": 42,
     "metadata": {},
     "output_type": "execute_result"
    }
   ],
   "source": [
    "# 1 function of fav_books \n",
    "def favorite_book(title):\n",
    "    return (f\"One of my favorite books is {title}.\")\n",
    "favorite_book('Alice in Woderland')"
   ]
  },
  {
   "cell_type": "code",
   "execution_count": 43,
   "metadata": {},
   "outputs": [
    {
     "name": "stdout",
     "output_type": "stream",
     "text": [
      "The shirt size is Medium and the message printed on it is: Python is fun!.\n",
      "The shirt size is Large and the message printed on it is: Hello, World!.\n"
     ]
    }
   ],
   "source": [
    "# 2 using positional arguments \n",
    "\n",
    "def make_shirt(size, message):\n",
    "    print(f\"The shirt size is {size} and the message printed on it is: {message}.\")\n",
    "\n",
    "# Calling the function using positional arguments\n",
    "make_shirt('Medium', 'Python is fun!')\n",
    "\n",
    "# Calling the function using keyword arguments\n",
    "make_shirt(message='Hello, World!', size='Large')\n"
   ]
  },
  {
   "cell_type": "code",
   "execution_count": 44,
   "metadata": {},
   "outputs": [
    {
     "name": "stdout",
     "output_type": "stream",
     "text": [
      "Reykjavik is in Iceland\n",
      "Oslo is in Norway\n",
      "New York is in USA\n"
     ]
    }
   ],
   "source": [
    "# Write a function called describe_city().\n",
    "def describe_city(city, country=\"Iceland\"):\n",
    "    print(f\"{city} is in {country}\")\n",
    "    # Test the function with a city and a country\n",
    "describe_city(\"Reykjavik\") # use default country\n",
    "describe_city(\"Oslo\", \"Norway\") # use specified country\n",
    "describe_city(\"New York\", \"USA\")"
   ]
  },
  {
   "cell_type": "code",
   "execution_count": 45,
   "metadata": {},
   "outputs": [
    {
     "name": "stdout",
     "output_type": "stream",
     "text": [
      "Tokyo,is in  Japan\n",
      "Berlin,is in  Germany\n",
      "Santiago,is in  Chile\n"
     ]
    }
   ],
   "source": [
    "# 04.Write a function called city_country().\n",
    "def city_country(city, country):\n",
    "    return f\"{city},is in  {country}\"\n",
    "# Test the function\n",
    "print(city_country(\"Tokyo\", \"Japan\"))\n",
    "print(city_country(\"Berlin\", \"Germany\"))\n",
    "print(city_country(\"Santiago\", \"Chile\"))"
   ]
  },
  {
   "cell_type": "code",
   "execution_count": 46,
   "metadata": {},
   "outputs": [
    {
     "name": "stdout",
     "output_type": "stream",
     "text": [
      "{'manufacturer': 'subaru', 'model': 'outback', 'color': 'blue', 'tow_package': True}\n"
     ]
    }
   ],
   "source": [
    "def make_car(manufacturer, model, **car_info):\n",
    "    \"\"\"Build a dictionary with information about a car.\"\"\"\n",
    "    car = {\n",
    "        'manufacturer': manufacturer,\n",
    "        'model': model,\n",
    "    }\n",
    "    car.update(car_info)\n",
    "    return car\n",
    "\n",
    "# Calling the function with additional information\n",
    "car = make_car('subaru', 'outback', color='blue', tow_package=True)\n",
    "\n",
    "# Printing the result\n",
    "print(car)\n"
   ]
  },
  {
   "cell_type": "code",
   "execution_count": null,
   "metadata": {},
   "outputs": [],
   "source": []
  }
 ],
 "metadata": {
  "kernelspec": {
   "display_name": "Python 3",
   "language": "python",
   "name": "python3"
  },
  "language_info": {
   "codemirror_mode": {
    "name": "ipython",
    "version": 3
   },
   "file_extension": ".py",
   "mimetype": "text/x-python",
   "name": "python",
   "nbconvert_exporter": "python",
   "pygments_lexer": "ipython3",
   "version": "3.12.2"
  }
 },
 "nbformat": 4,
 "nbformat_minor": 2
}
