{
 "cells": [
  {
   "cell_type": "markdown",
   "metadata": {},
   "source": [
    "# Loops in python\n",
    "# By Awais Manzoor\n",
    "# Data Analyst"
   ]
  },
  {
   "cell_type": "markdown",
   "metadata": {},
   "source": [
    "# Loops in Python\n",
    "i.Need for loops\n",
    "ii.While Loop\n",
    "iii.For Loop"
   ]
  },
  {
   "cell_type": "code",
   "execution_count": 2,
   "metadata": {},
   "outputs": [
    {
     "name": "stdout",
     "output_type": "stream",
     "text": [
      "2 * 1 = 2\n",
      "2 * 2 = 4\n",
      "2 * 3 = 6\n",
      "2 * 4 = 8\n",
      "2 * 5 = 10\n",
      "2 * 6 = 12\n",
      "2 * 7 = 14\n",
      "2 * 8 = 16\n",
      "2 * 9 = 18\n",
      "2 * 10 = 20\n"
     ]
    }
   ],
   "source": [
    "# While loop example -> program to print the table\n",
    "# Program -> Sum of all digits of a given number\n",
    "# Program -> keep accepting numbers from users till he/she enters a 0 and then find the avg\n",
    "number = int(input('enter the number'))\n",
    "\n",
    "i = 1\n",
    "\n",
    "while i<11:\n",
    "  print(number,'*',i,'=',number * i)\n",
    "  i += 1"
   ]
  },
  {
   "cell_type": "code",
   "execution_count": 28,
   "metadata": {},
   "outputs": [
    {
     "name": "stdout",
     "output_type": "stream",
     "text": [
      "*\n",
      "**\n",
      "***\n",
      "****\n",
      "*****\n",
      "******\n",
      "*******\n",
      "********\n",
      "*********\n",
      "**********\n"
     ]
    }
   ],
   "source": [
    "# rows pattern  \n",
    "rows = int(input(\"Enter the number of rows \"))\n",
    "for i in range(1, rows+1):\n",
    "    for j in range(1, i+1):\n",
    "        print('*', end='')\n",
    "    print()"
   ]
  },
  {
   "cell_type": "code",
   "execution_count": 29,
   "metadata": {},
   "outputs": [
    {
     "name": "stdout",
     "output_type": "stream",
     "text": [
      "1\n",
      "121\n",
      "12321\n",
      "1234321\n",
      "123454321\n"
     ]
    }
   ],
   "source": [
    "# rows pattern  \n",
    "rows = int(input(\"Enter the number of rows \"))\n",
    "for i in range(1, rows+1):\n",
    "    for j in range(1, i+1):\n",
    "        print(j, end='')\n",
    "    for k in range(i-1, 0, -1):\n",
    "        print(k, end='')\n",
    "    print()"
   ]
  },
  {
   "cell_type": "code",
   "execution_count": 3,
   "metadata": {},
   "outputs": [
    {
     "name": "stdout",
     "output_type": "stream",
     "text": [
      "1\n",
      "2\n",
      "limit crossed\n"
     ]
    }
   ],
   "source": [
    "# while loop with else\n",
    "\n",
    "x = 1\n",
    "\n",
    "while x < 3:\n",
    "  print(x)\n",
    "  x += 1\n",
    "\n",
    "else:\n",
    "  print('limit crossed')"
   ]
  },
  {
   "cell_type": "code",
   "execution_count": 4,
   "metadata": {},
   "outputs": [
    {
     "name": "stdout",
     "output_type": "stream",
     "text": [
      "galat!guess higher\n",
      "galat!guess higher\n",
      "galat!guess higher\n",
      "galat!guess higher\n",
      "galat!guess higher\n",
      "galat!guess higher\n",
      "galat!guess higher\n",
      "galat!guess higher\n",
      "galat!guess lower\n",
      "galat!guess lower\n",
      "galat!guess lower\n",
      "galat!guess lower\n",
      "galat!guess higher\n",
      "galat!guess higher\n",
      "galat!guess higher\n",
      "galat!guess higher\n",
      "galat!guess higher\n",
      "galat!guess higher\n",
      "correct guess\n",
      "attempts 19\n"
     ]
    }
   ],
   "source": [
    "# Guessing game\n",
    "\n",
    "# generate a random integer between 1 and 100\n",
    "import random\n",
    "jackpot = random.randint(1,100)\n",
    "\n",
    "guess = int(input('guess karo'))\n",
    "counter = 1\n",
    "while guess != jackpot:\n",
    "  if guess < jackpot:\n",
    "    print('galat!guess higher')\n",
    "  else:\n",
    "    print('galat!guess lower')\n",
    "\n",
    "  guess = int(input('guess karo'))\n",
    "  counter += 1\n",
    "\n",
    "else:\n",
    "  print('correct guess')\n",
    "  print('attempts',counter)"
   ]
  },
  {
   "cell_type": "code",
   "execution_count": 5,
   "metadata": {},
   "outputs": [
    {
     "name": "stdout",
     "output_type": "stream",
     "text": [
      "1\n",
      "2\n",
      "3\n",
      "4\n",
      "5\n"
     ]
    }
   ],
   "source": [
    "# For loop demo\n",
    "\n",
    "for i in {1,2,3,4,5}:\n",
    "  print(i)"
   ]
  },
  {
   "cell_type": "code",
   "execution_count": 6,
   "metadata": {},
   "outputs": [
    {
     "name": "stdout",
     "output_type": "stream",
     "text": [
      "10 10000\n",
      "9 9000.0\n",
      "8 8100.0\n",
      "7 7290.0\n",
      "6 6561.0\n",
      "5 5904.9\n",
      "4 5314.41\n",
      "3 4782.969\n",
      "2 4304.6721\n",
      "1 3874.20489\n"
     ]
    }
   ],
   "source": [
    "\"\"\"\"Program - The current population of a town is 10000. The population of the town is increasing at the rate of 10% per year. You have to write a program to find out the population at the end of each of the last 10 years.\"\"\"\n",
    "# Code Used in the session\n",
    "curr_pop = 10000\n",
    "\n",
    "for i in range(10,0,-1):\n",
    "  print(i,curr_pop)\n",
    "  curr_pop = curr_pop - 0.1*curr_pop"
   ]
  },
  {
   "cell_type": "code",
   "execution_count": 8,
   "metadata": {},
   "outputs": [
    {
     "name": "stdout",
     "output_type": "stream",
     "text": [
      "10 10000\n",
      "9 9090.90909090909\n",
      "8 8264.462809917353\n",
      "7 7513.148009015775\n",
      "6 6830.134553650703\n",
      "5 6209.213230591548\n",
      "4 5644.739300537771\n",
      "3 5131.5811823070635\n",
      "2 4665.07380209733\n",
      "1 4240.976183724845\n"
     ]
    },
    {
     "data": {
      "text/plain": [
       "'\"Explanation :\\nTo calculate the population for each year with a 10% increase, you can use a simpler equation based on the previous year\\'s population. Let\\'s assume the population of the previous year is represented by variable x.\\n\\nThe equation can be written as:\\n\\nCurrent Year Population = x * 1.1\\n\\nIn this equation, the current year\\'s population is equal to the previous year\\'s population multiplied by 1.1, representing a 10% increase.\\n\\nTo find the population of the previous year (x), we can rearrange the equation as follows:\\n\\nx = Current Year Population / 1.1\\n\\nUsing this simplified equation, if you have the current year\\'s population (e.g., 10,000), you can divide it by 1.1 to calculate the population of the previous year.\\n\\nThis equation allows you to calculate the population for each year, assuming you know the population of the current year and want to find the population of the previous year.'"
      ]
     },
     "execution_count": 8,
     "metadata": {},
     "output_type": "execute_result"
    }
   ],
   "source": [
    "# Correct Answer of above question:\n",
    "curr_pop = 10000\n",
    "\n",
    "for i in range(10,0,-1):\n",
    "  print(i,curr_pop)\n",
    "  curr_pop /= 1.1\n",
    "\n",
    "\"\"\"\"Explanation :\n",
    "To calculate the population for each year with a 10% increase, you can use a simpler equation based on the previous year's population. Let's assume the population of the previous year is represented by variable x.\n",
    "\n",
    "The equation can be written as:\n",
    "\n",
    "Current Year Population = x * 1.1\n",
    "\n",
    "In this equation, the current year's population is equal to the previous year's population multiplied by 1.1, representing a 10% increase.\n",
    "\n",
    "To find the population of the previous year (x), we can rearrange the equation as follows:\n",
    "\n",
    "x = Current Year Population / 1.1\n",
    "\n",
    "Using this simplified equation, if you have the current year's population (e.g., 10,000), you can divide it by 1.1 to calculate the population of the previous year.\n",
    "\n",
    "This equation allows you to calculate the population for each year, assuming you know the population of the current year and want to find the population of the previous year.\"\"\""
   ]
  },
  {
   "cell_type": "code",
   "execution_count": 9,
   "metadata": {},
   "outputs": [
    {
     "name": "stdout",
     "output_type": "stream",
     "text": [
      "zohaib is a good friend\n",
      "ali is a good friend\n",
      "ammar is a good friend\n",
      "Done!\n"
     ]
    }
   ],
   "source": [
    "# use for loops\n",
    "friends = ['zohaib', 'ali', 'ammar']\n",
    "for friend in friends:\n",
    "    print(friend,'is a good friend')\n",
    "print('Done!')\n"
   ]
  },
  {
   "cell_type": "code",
   "execution_count": 10,
   "metadata": {},
   "outputs": [
    {
     "name": "stdout",
     "output_type": "stream",
     "text": [
      "You are invited to a dinner, Sarah\n",
      "You are invited to a dinner, Sarwat\n",
      "You are invited to a dinner, Sabra\n"
     ]
    }
   ],
   "source": [
    "# use for loops\n",
    "invitees = ['sarah', 'sarwat', 'sabra']\n",
    "for invitee in invitees:\n",
    "    #print('you are invited to a dinner', invitee)\n",
    "    print(f'You are invited to a dinner, {invitee.title()}')"
   ]
  },
  {
   "cell_type": "code",
   "execution_count": 11,
   "metadata": {},
   "outputs": [
    {
     "name": "stdout",
     "output_type": "stream",
     "text": [
      "you are invited to my party Sarah\n",
      "incase you cant come Sarah, please let me know\n",
      "\n",
      "you are invited to my party Sarwat\n",
      "incase you cant come Sarwat, please let me know\n",
      "\n",
      "you are invited to my party Sabra\n",
      "incase you cant come Sabra, please let me know\n",
      "\n",
      "you are the best friend ever\n"
     ]
    }
   ],
   "source": [
    "# use for loops\n",
    "for invite in invitees:\n",
    "    print(f\"you are invited to my party {invite.title()}\")\n",
    "    print(f'incase you cant come {invite.title()}, please let me know\\n')\n",
    "print(f'you are the best friend ever')"
   ]
  },
  {
   "cell_type": "code",
   "execution_count": 12,
   "metadata": {},
   "outputs": [
    {
     "name": "stdout",
     "output_type": "stream",
     "text": [
      "2\n",
      "4\n",
      "6\n",
      "8\n"
     ]
    }
   ],
   "source": [
    "# use for loop in range \n",
    "for value in range(2,10,2):\n",
    "   print(value)"
   ]
  },
  {
   "cell_type": "code",
   "execution_count": 13,
   "metadata": {},
   "outputs": [
    {
     "name": "stdout",
     "output_type": "stream",
     "text": [
      "[2, 4, 6, 8, 10]\n"
     ]
    }
   ],
   "source": [
    "# making even numbers \n",
    "even_number = list(range(2,11,2))\n",
    "print(even_number)  # [2, 6, 10]"
   ]
  },
  {
   "cell_type": "code",
   "execution_count": 14,
   "metadata": {},
   "outputs": [
    {
     "name": "stdout",
     "output_type": "stream",
     "text": [
      "[1, 7, 13, 19]\n"
     ]
    }
   ],
   "source": [
    "odd_number = list(range(1,21,6))\n",
    "print(odd_number)"
   ]
  },
  {
   "cell_type": "code",
   "execution_count": 15,
   "metadata": {},
   "outputs": [
    {
     "name": "stdout",
     "output_type": "stream",
     "text": [
      "[]\n",
      "[1]\n",
      "[1, 8]\n",
      "[1, 8, 27]\n",
      "[1, 8, 27, 64]\n",
      "[1, 8, 27, 64, 125]\n",
      "[1, 8, 27, 64, 125, 216]\n",
      "[1, 8, 27, 64, 125, 216, 343]\n",
      "[1, 8, 27, 64, 125, 216, 343, 512]\n",
      "[1, 8, 27, 64, 125, 216, 343, 512, 729]\n",
      "[1, 8, 27, 64, 125, 216, 343, 512, 729, 1000]\n",
      "[1, 8, 27, 64, 125, 216, 343, 512, 729, 1000, 1331]\n"
     ]
    }
   ],
   "source": [
    "squares = []\n",
    "for value in range(1,12):\n",
    "    square = value ** 3\n",
    "    print(squares)\n",
    "    squares.append(square)\n",
    "print(squares)"
   ]
  },
  {
   "cell_type": "code",
   "execution_count": 16,
   "metadata": {},
   "outputs": [
    {
     "name": "stdout",
     "output_type": "stream",
     "text": [
      "Count: 1\n",
      "Count: 2\n",
      "Count: 3\n",
      "Count: 4\n",
      "Count: 5\n",
      "Count: 6\n"
     ]
    }
   ],
   "source": [
    "count = 0\n",
    "for intervar in[2,33,44,55,66,77]:\n",
    "    count+=1\n",
    "    print(\"Count:\", count)"
   ]
  },
  {
   "cell_type": "code",
   "execution_count": 17,
   "metadata": {},
   "outputs": [
    {
     "name": "stdout",
     "output_type": "stream",
     "text": [
      "[0, 2, 4, 6, 8]\n"
     ]
    }
   ],
   "source": [
    "# use multiply function\n",
    "multiply = [value*2 for value in range(5)]\n",
    "print(multiply)"
   ]
  },
  {
   "cell_type": "code",
   "execution_count": 18,
   "metadata": {},
   "outputs": [
    {
     "name": "stdout",
     "output_type": "stream",
     "text": [
      "p\n",
      "y\n",
      "t\n",
      "h\n",
      "o\n",
      "n\n",
      "0\n",
      "1\n",
      "2\n",
      "3\n",
      "4\n",
      "Cat\n",
      "Dog\n",
      "Tiger\n",
      "Cow\n"
     ]
    }
   ],
   "source": [
    "# use i \n",
    "for i in 'python':\n",
    "    print(i)\n",
    "# use j \n",
    "for j in range(5):\n",
    "    print(j)\n",
    "\n",
    "AnimalList = ['Cat','Dog','Tiger','Cow']\n",
    "for x in AnimalList:\n",
    "    print(x)"
   ]
  },
  {
   "cell_type": "code",
   "execution_count": 19,
   "metadata": {},
   "outputs": [
    {
     "name": "stdout",
     "output_type": "stream",
     "text": [
      "5 Tomatoes\n",
      "5 Potatoes\n",
      "5 Carrots\n",
      "5 Cucumbers\n",
      "10 Tomatoes\n",
      "10 Potatoes\n",
      "10 Carrots\n",
      "10 Cucumbers\n",
      "15 Tomatoes\n",
      "15 Potatoes\n",
      "15 Carrots\n",
      "15 Cucumbers\n",
      "20 Tomatoes\n",
      "20 Potatoes\n",
      "20 Carrots\n",
      "20 Cucumbers\n"
     ]
    }
   ],
   "source": [
    "list1 = [5,10,15,20]\n",
    "list2 = ['Tomatoes','Potatoes','Carrots','Cucumbers']\n",
    "\n",
    "for x in list1:\n",
    "    for y in list2:\n",
    "        print(x,y)\n"
   ]
  },
  {
   "cell_type": "code",
   "execution_count": 20,
   "metadata": {},
   "outputs": [
    {
     "name": "stdout",
     "output_type": "stream",
     "text": [
      "4 1818.181818181818\n",
      "3 1652.8925619834708\n",
      "2 1502.629601803155\n",
      "1 1366.0269107301408\n"
     ]
    }
   ],
   "source": [
    "current_pop = 2000\n",
    "for i in range(4, 0, -1):\n",
    "    current_pop = current_pop/1.1\n",
    "    print(i, current_pop)"
   ]
  },
  {
   "cell_type": "code",
   "execution_count": 21,
   "metadata": {},
   "outputs": [
    {
     "name": "stdout",
     "output_type": "stream",
     "text": [
      "10 9090.90909090909\n",
      "9 8264.462809917353\n",
      "8 7513.148009015775\n",
      "7 6830.134553650703\n",
      "6 6209.213230591548\n",
      "5 5644.739300537771\n",
      "4 5131.5811823070635\n",
      "3 4665.07380209733\n",
      "2 4240.976183724845\n",
      "1 3855.4328942953134\n"
     ]
    }
   ],
   "source": [
    "# papolation 10% decrease \n",
    "current_pap = 10000\n",
    "for i in range(10,0,-1):\n",
    "    current_pap = current_pap/1.1\n",
    "    print(i,current_pap)  "
   ]
  },
  {
   "cell_type": "code",
   "execution_count": 22,
   "metadata": {},
   "outputs": [
    {
     "name": "stdout",
     "output_type": "stream",
     "text": [
      "cars\n"
     ]
    }
   ],
   "source": [
    "# using break function\n",
    "vehicles = ['cars', 'toyta','audi']\n",
    "for v in vehicles:\n",
    "    if v=='toyta':\n",
    "        break\n",
    "    print(v)"
   ]
  },
  {
   "cell_type": "code",
   "execution_count": 23,
   "metadata": {},
   "outputs": [],
   "source": [
    "# use a Flag by using while loops\n",
    "prompt = \"\\n Tell me something , and i will repeat itr back to you\"\n",
    "prompt += \"\\n Enter 'quit', to end programm \"\n",
    "active = True # flag\n",
    "while active:\n",
    "    message = input(prompt)\n",
    "    if message == 'quit':\n",
    "        active = False\n",
    "    else:\n",
    "        print(message)"
   ]
  },
  {
   "cell_type": "code",
   "execution_count": 24,
   "metadata": {},
   "outputs": [
    {
     "name": "stdout",
     "output_type": "stream",
     "text": [
      "1\n",
      "1000000\n",
      "500000500000\n"
     ]
    }
   ],
   "source": [
    "# 02. million of numbers max min\n",
    "millian_numbers = list(range(1,1000001))\n",
    "print(min(millian_numbers))          #1\n",
    "print(max(millian_numbers))          #1000000\n",
    "print(sum(millian_numbers))"
   ]
  },
  {
   "cell_type": "code",
   "execution_count": 25,
   "metadata": {},
   "outputs": [
    {
     "name": "stdout",
     "output_type": "stream",
     "text": [
      "Here are the first four players on my team:\n",
      "Babar\n",
      "Shaheen\n",
      "Malik\n",
      "Rizwan\n"
     ]
    }
   ],
   "source": [
    "# looping through silicing a list\n",
    "players = ['babar', 'shaheen', 'malik','rizwan']\n",
    "\n",
    "print(\"Here are the first four players on my team:\")\n",
    "for player in players[:4]:\n",
    "    print(player.title())"
   ]
  },
  {
   "cell_type": "code",
   "execution_count": 26,
   "metadata": {},
   "outputs": [
    {
     "name": "stdout",
     "output_type": "stream",
     "text": [
      "Here are the first three playeers on my team\n",
      "Babar\n",
      "Rizwan\n",
      "Shaheen\n"
     ]
    }
   ],
   "source": [
    "# looping through slicing.\n",
    "players = ['babar', 'rizwan', 'shaheen', 'amir']\n",
    "print(\"Here are the first three playeers on my team\")\n",
    "for player in players[:3]:\n",
    "    print(player.title())"
   ]
  },
  {
   "cell_type": "code",
   "execution_count": 27,
   "metadata": {},
   "outputs": [
    {
     "name": "stdout",
     "output_type": "stream",
     "text": [
      "1121\n"
     ]
    }
   ],
   "source": [
    "rows = int(input('Enter a number of rows'))\n",
    "i = 1\n",
    "for i in range(i,rows+1):\n",
    "    for j in range(1,i+1):\n",
    "        print(j, end=\"\")\n",
    "    for k in range(i-1,0,-1):\n",
    "        print(k, end=\"\")\n",
    "        \n",
    "print()"
   ]
  },
  {
   "cell_type": "code",
   "execution_count": null,
   "metadata": {},
   "outputs": [],
   "source": [
    "# code for triangle \n",
    "a = int(input(\"Enter the first angle: \"))\n",
    "b = int(input(\"Enter the second angle: \"))\n",
    "c = int(input(\"Enter the third angle: \"))\n",
    "if a+b+c == 180:\n",
    "    print(\"It can form a triangle\")\n",
    "else:\n",
    "    print(\"It cannot form a triangle\")"
   ]
  },
  {
   "cell_type": "markdown",
   "metadata": {},
   "source": [
    "# Contol statement"
   ]
  },
  {
   "cell_type": "code",
   "execution_count": 30,
   "metadata": {},
   "outputs": [],
   "source": [
    "# break\n",
    "lower = int(input('enter lower range'))\n",
    "upper = int(input('enter upper range'))\n",
    "\n",
    "for i in range(lower,upper+1):\n",
    "  for j in range(2,i):\n",
    "    if i%j == 0:\n",
    "      break\n",
    "  else:\n",
    "    print(i)"
   ]
  },
  {
   "cell_type": "code",
   "execution_count": 31,
   "metadata": {},
   "outputs": [
    {
     "name": "stdout",
     "output_type": "stream",
     "text": [
      "1\n",
      "2\n",
      "3\n",
      "4\n",
      "6\n",
      "7\n",
      "8\n",
      "9\n"
     ]
    }
   ],
   "source": [
    "# Continue\n",
    "for i in range(1,10):\n",
    "  if i == 5:\n",
    "    continue\n",
    "  print(i)"
   ]
  },
  {
   "cell_type": "markdown",
   "metadata": {},
   "source": [
    "# Nested Loops"
   ]
  },
  {
   "cell_type": "code",
   "execution_count": 32,
   "metadata": {},
   "outputs": [
    {
     "name": "stdout",
     "output_type": "stream",
     "text": [
      "1 1\n",
      "1 2\n",
      "1 3\n",
      "1 4\n",
      "2 1\n",
      "2 2\n",
      "2 3\n",
      "2 4\n",
      "3 1\n",
      "3 2\n",
      "3 3\n",
      "3 4\n",
      "4 1\n",
      "4 2\n",
      "4 3\n",
      "4 4\n"
     ]
    }
   ],
   "source": [
    "for i in range(1,5):\n",
    "    for j in range(1,5):\n",
    "     print(i,j)"
   ]
  },
  {
   "cell_type": "code",
   "execution_count": 33,
   "metadata": {},
   "outputs": [
    {
     "name": "stdout",
     "output_type": "stream",
     "text": [
      " 1  2  3  4  5 \n",
      " 2  4  6  8 10 \n",
      " 3  6  9 12 15 \n",
      " 4  8 12 16 20 \n",
      " 5 10 15 20 25 \n"
     ]
    }
   ],
   "source": [
    "# Outer loop: Iterate through numbers from 1 to 5\n",
    "for i in range(1, 6):  # i represents the row\n",
    "    # Inner loop: Iterate through numbers from 1 to 5 for each row\n",
    "    for j in range(1, 6): \n",
    "        # Print\n",
    "        print(f\"{i * j:2}\", end=\" \")  # Format for better alignment\n",
    "    print() \n"
   ]
  }
 ],
 "metadata": {
  "kernelspec": {
   "display_name": "Python 3",
   "language": "python",
   "name": "python3"
  },
  "language_info": {
   "codemirror_mode": {
    "name": "ipython",
    "version": 3
   },
   "file_extension": ".py",
   "mimetype": "text/x-python",
   "name": "python",
   "nbconvert_exporter": "python",
   "pygments_lexer": "ipython3",
   "version": "3.12.2"
  }
 },
 "nbformat": 4,
 "nbformat_minor": 2
}
