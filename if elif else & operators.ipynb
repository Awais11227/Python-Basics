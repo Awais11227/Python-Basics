{
 "cells": [
  {
   "cell_type": "markdown",
   "metadata": {},
   "source": [
    "# If-else & operators\n",
    "# By Awais Manzoor\n",
    "# Data Analyst\n"
   ]
  },
  {
   "cell_type": "code",
   "execution_count": 1,
   "metadata": {},
   "outputs": [
    {
     "name": "stdout",
     "output_type": "stream",
     "text": [
      "Not correct\n"
     ]
    }
   ],
   "source": [
    "# login program and indentation\n",
    "# email -> nitish.campusx@gmail.com\n",
    "# password -> 1234\n",
    "\n",
    "email = input('enter email')\n",
    "password = input('enter password')\n",
    "\n",
    "if email == 'nitish.campusx@gmail.com' and password == '1234':\n",
    "  print('Welcome')\n",
    "elif email == 'nitish.campusx@gmail.com' and password != '1234':\n",
    "  # tell the user\n",
    "  print('Incorrect password')\n",
    "  password = input('enter password again')\n",
    "  if password == '1234':\n",
    "    print('Welcome,finally!')\n",
    "  else:\n",
    "    print('beta tumse na ho paayega!')\n",
    "else:\n",
    "  print('Not correct')"
   ]
  },
  {
   "cell_type": "code",
   "execution_count": 2,
   "metadata": {},
   "outputs": [],
   "source": [
    "# if-else examples\n",
    "# 1. Find the min of 3 given numbers\n",
    "# 2. Menu Driven Program"
   ]
  },
  {
   "cell_type": "code",
   "execution_count": 3,
   "metadata": {},
   "outputs": [
    {
     "name": "stdout",
     "output_type": "stream",
     "text": [
      "smallest is 4\n"
     ]
    }
   ],
   "source": [
    "# min of 3 number\n",
    "\n",
    "a = int(input('first num'))\n",
    "b = int(input('second num'))\n",
    "c = int(input('third num'))\n",
    "\n",
    "if a<b and a<c:\n",
    "  print('smallest is',a)\n",
    "elif b<c:\n",
    "  print('smallest is',b)\n",
    "else:\n",
    "  print('smallest is',c)"
   ]
  },
  {
   "cell_type": "code",
   "execution_count": 6,
   "metadata": {},
   "outputs": [
    {
     "name": "stdout",
     "output_type": "stream",
     "text": [
      "balance\n"
     ]
    }
   ],
   "source": [
    "# menu driven calculator\n",
    "menu = input(\"\"\"\n",
    "Hi! how can I help you.\n",
    "1. Enter 1 for pin change\n",
    "2. Enter 2 for balance check\n",
    "3. Enter 3 for withdrawl\n",
    "4. Enter 4 for exit\n",
    "\"\"\")\n",
    "\n",
    "if menu == '1':\n",
    "  print('pin change')\n",
    "elif menu == '2':\n",
    "  print('balance')\n",
    "else:\n",
    "  print('exit')"
   ]
  },
  {
   "cell_type": "markdown",
   "metadata": {},
   "source": [
    "# Modules in Python"
   ]
  },
  {
   "cell_type": "code",
   "execution_count": 7,
   "metadata": {},
   "outputs": [
    {
     "data": {
      "text/plain": [
       "'\"Modules in Python\\nmath\\nkeywords\\nrandom\\ndatetime'"
      ]
     },
     "execution_count": 7,
     "metadata": {},
     "output_type": "execute_result"
    }
   ],
   "source": [
    "\"\"\"\"Modules in Python\n",
    "math\n",
    "keywords\n",
    "random\n",
    "datetime\"\"\""
   ]
  },
  {
   "cell_type": "code",
   "execution_count": 8,
   "metadata": {},
   "outputs": [
    {
     "data": {
      "text/plain": [
       "14.0"
      ]
     },
     "execution_count": 8,
     "metadata": {},
     "output_type": "execute_result"
    }
   ],
   "source": [
    "# math\n",
    "import math\n",
    "\n",
    "math.sqrt(196)"
   ]
  },
  {
   "cell_type": "code",
   "execution_count": 9,
   "metadata": {},
   "outputs": [
    {
     "name": "stdout",
     "output_type": "stream",
     "text": [
      "['False', 'None', 'True', 'and', 'as', 'assert', 'async', 'await', 'break', 'class', 'continue', 'def', 'del', 'elif', 'else', 'except', 'finally', 'for', 'from', 'global', 'if', 'import', 'in', 'is', 'lambda', 'nonlocal', 'not', 'or', 'pass', 'raise', 'return', 'try', 'while', 'with', 'yield']\n"
     ]
    }
   ],
   "source": [
    "# keyword\n",
    "import keyword\n",
    "print(keyword.kwlist)"
   ]
  },
  {
   "cell_type": "code",
   "execution_count": 10,
   "metadata": {},
   "outputs": [
    {
     "name": "stdout",
     "output_type": "stream",
     "text": [
      "62\n"
     ]
    }
   ],
   "source": [
    "# random\n",
    "import random\n",
    "print(random.randint(1,100))"
   ]
  },
  {
   "cell_type": "code",
   "execution_count": 11,
   "metadata": {},
   "outputs": [
    {
     "name": "stdout",
     "output_type": "stream",
     "text": [
      "2025-01-03 12:12:05.941373\n"
     ]
    }
   ],
   "source": [
    "# datetime\n",
    "import datetime\n",
    "print(datetime.datetime.now())"
   ]
  },
  {
   "cell_type": "code",
   "execution_count": 12,
   "metadata": {},
   "outputs": [
    {
     "name": "stdout",
     "output_type": "stream",
     "text": [
      "\n",
      "Please wait a moment while I gather a list of all available modules...\n",
      "\n",
      "test_sqlite3: testing with SQLite version 3.43.1\n",
      "IPython             asyncio             matplotlib          sunau\n",
      "PIL                 atexit              matplotlib_inline   symtable\n",
      "__future__          audioop             mimetypes           sys\n",
      "__hello__           base64              mmap                sysconfig\n",
      "__phello__          bdb                 mmapfile            tabnanny\n",
      "_abc                binascii            mmsystem            tarfile\n",
      "_aix_support        bisect              modulefinder        telnetlib\n",
      "_ast                builtins            mpl_toolkits        tempfile\n",
      "_asyncio            bz2                 msilib              test\n",
      "_bisect             cProfile            msvcrt              textwrap\n",
      "_blake2             calendar            multiprocessing     this\n",
      "_bz2                cgi                 nest_asyncio        threading\n",
      "_codecs             cgitb               netbios             time\n",
      "_codecs_cn          chunk               netrc               timeit\n",
      "_codecs_hk          cmath               nntplib             timer\n",
      "_codecs_iso2022     cmd                 nt                  tkinter\n",
      "_codecs_jp          code                ntpath              token\n",
      "_codecs_kr          codecs              ntsecuritycon       tokenize\n",
      "_codecs_tw          codeop              nturl2path          tomllib\n",
      "_collections        collections         numbers             tornado\n",
      "_collections_abc    colorama            numpy               trace\n",
      "_compat_pickle      colorsys            odbc                traceback\n",
      "_compression        comm                opcode              tracemalloc\n",
      "_contextvars        commctrl            openpyxl            traitlets\n",
      "_csv                compileall          operator            tty\n",
      "_ctypes             concurrent          optparse            turtle\n",
      "_ctypes_test        configparser        os                  turtledemo\n",
      "_datetime           contextlib          packaging           types\n",
      "_decimal            contextvars         pandas              typing\n",
      "_elementtree        contourpy           parso               tzdata\n",
      "_functools          copy                pathlib             unicodedata\n",
      "_hashlib            copyreg             pdb                 unittest\n",
      "_heapq              crypt               perfmon             urllib\n",
      "_imp                csv                 pickle              uu\n",
      "_io                 ctypes              pickletools         uuid\n",
      "_json               curses              pip                 venv\n",
      "_locale             cycler              pipes               warnings\n",
      "_lsprof             dataclasses         pkgutil             wave\n",
      "_lzma               datetime            platform            wcwidth\n",
      "_markupbase         dateutil            platformdirs        weakref\n",
      "_md5                dbi                 plistlib            webbrowser\n",
      "_msi                dbm                 poplib              win2kras\n",
      "_multibytecodec     dde                 posixpath           win32api\n",
      "_multiprocessing    debugpy             pprint              win32clipboard\n",
      "_opcode             decimal             profile             win32com\n",
      "_operator           decorator           prompt_toolkit      win32con\n",
      "_osx_support        difflib             pstats              win32console\n",
      "_overlapped         dis                 psutil              win32cred\n",
      "_pickle             doctest             pty                 win32crypt\n",
      "_py_abc             email               pure_eval           win32cryptcon\n",
      "_pydatetime         emoji               py_compile          win32event\n",
      "_pydecimal          encodings           pyclbr              win32evtlog\n",
      "_pyio               ensurepip           pydoc               win32evtlogutil\n",
      "_pylong             enum                pydoc_data          win32file\n",
      "_queue              errno               pyexpat             win32gui\n",
      "_random             et_xmlfile          pygments            win32gui_struct\n",
      "_sha1               executing           pylab               win32help\n",
      "_sha2               faulthandler        pyparsing           win32inet\n",
      "_sha3               filecmp             pythoncom           win32inetcon\n",
      "_signal             fileinput           pytz                win32job\n",
      "_sitebuiltins       fnmatch             pywin               win32lz\n",
      "_socket             fontTools           pywin32_bootstrap   win32net\n",
      "_sqlite3            fractions           pywin32_testutil    win32netcon\n",
      "_sre                ftplib              pywintypes          win32pdh\n",
      "_ssl                functools           queue               win32pdhquery\n",
      "_stat               gc                  quopri              win32pdhutil\n",
      "_statistics         genericpath         random              win32pipe\n",
      "_string             getopt              rasutil             win32print\n",
      "_strptime           getpass             re                  win32process\n",
      "_struct             gettext             regcheck            win32profile\n",
      "_symtable           glob                regutil             win32ras\n",
      "_testbuffer         graphlib            reprlib             win32rcparser\n",
      "_testcapi           gzip                rlcompleter         win32security\n",
      "_testclinic         hashlib             runpy               win32service\n",
      "_testconsole        heapq               sched               win32serviceutil\n",
      "_testimportmultiple hmac                seaborn             win32timezone\n",
      "_testinternalcapi   html                secrets             win32trace\n",
      "_testmultiphase     http                select              win32traceutil\n",
      "_testsinglephase    idlelib             selectors           win32transaction\n",
      "_thread             imaplib             servicemanager      win32ts\n",
      "_threading_local    imghdr              shelve              win32ui\n",
      "_tkinter            importlib           shlex               win32uiole\n",
      "_tokenize           inspect             shutil              win32verstamp\n",
      "_tracemalloc        io                  signal              win32wnet\n",
      "_typing             ipaddress           site                winerror\n",
      "_uuid               ipykernel           six                 winioctlcon\n",
      "_warnings           ipykernel_launcher  smtplib             winnt\n",
      "_weakref            isapi               sndhdr              winperf\n",
      "_weakrefset         itertools           socket              winreg\n",
      "_win32sysloader     jedi                socketserver        winsound\n",
      "_winapi             json                sqlite3             winxpgui\n",
      "_winxptheme         jupyter             sre_compile         winxptheme\n",
      "_wmi                jupyter_client      sre_constants       wsgiref\n",
      "_xxinterpchannels   jupyter_core        sre_parse           xdrlib\n",
      "_xxsubinterpreters  keyword             ssl                 xml\n",
      "_zoneinfo           kiwisolver          sspi                xmlrpc\n",
      "abc                 lib2to3             sspicon             xxsubtype\n",
      "adodbapi            linecache           stack_data          zipapp\n",
      "afxres              locale              start_pythonwin     zipfile\n",
      "aifc                logging             stat                zipimport\n",
      "antigravity         lzma                statistics          zlib\n",
      "argparse            mailbox             string              zmq\n",
      "array               mailcap             stringprep          zoneinfo\n",
      "ast                 marshal             struct              \n",
      "asttokens           math                subprocess          \n",
      "\n",
      "Enter any module name to get more help.  Or, type \"modules spam\" to search\n",
      "for modules whose name or summary contain the string \"spam\".\n",
      "\n"
     ]
    }
   ],
   "source": [
    "help('modules')"
   ]
  },
  {
   "cell_type": "code",
   "execution_count": 13,
   "metadata": {},
   "outputs": [
    {
     "name": "stdout",
     "output_type": "stream",
     "text": [
      "c is the smallest\n"
     ]
    }
   ],
   "source": [
    "# conditional if elif else\n",
    "a = 5\n",
    "b = 4\n",
    "c = 3\n",
    "\n",
    "if a < b and a < c:\n",
    "    print(\"a is smaller than b and c\")\n",
    "elif b < c:\n",
    "        print(\"b is smaller than c\")\n",
    "else:\n",
    "        print(\"c is the smallest\")"
   ]
  },
  {
   "cell_type": "code",
   "execution_count": 14,
   "metadata": {},
   "outputs": [
    {
     "name": "stdout",
     "output_type": "stream",
     "text": [
      "Audi\n",
      "BMW\n",
      "Subaru\n",
      "Toyota\n"
     ]
    }
   ],
   "source": [
    "# if with for loops\n",
    "cars = ['audi', 'bmw', 'subaru', 'toyota']\n",
    "for car in cars:\n",
    "    if car == 'bmw':\n",
    "        print(car.upper())\n",
    "    else:\n",
    "        print(car.title())"
   ]
  },
  {
   "cell_type": "code",
   "execution_count": 15,
   "metadata": {},
   "outputs": [
    {
     "name": "stdout",
     "output_type": "stream",
     "text": [
      "True\n",
      "False\n",
      "False\n"
     ]
    }
   ],
   "source": [
    "# check equality.\n",
    "cars = 'bmw'\n",
    "print(cars == 'bmw')  # True\n",
    "\n",
    "# check inequality\n",
    "cars = 'audi'\n",
    "print(cars == 'bmw')  # False\n",
    "\n",
    "# case sensetive also give you False.\n",
    "cars = 'Audi'\n",
    "print(cars == 'audi')  # False"
   ]
  },
  {
   "cell_type": "code",
   "execution_count": 16,
   "metadata": {},
   "outputs": [
    {
     "name": "stdout",
     "output_type": "stream",
     "text": [
      "Audi\n"
     ]
    }
   ],
   "source": [
    "# The two strings when match give True answer\n",
    "car = 'Audi'\n",
    "car.lower() == 'audi'\n",
    "#True\n",
    "print(car)"
   ]
  },
  {
   "cell_type": "code",
   "execution_count": 17,
   "metadata": {},
   "outputs": [
    {
     "name": "stdout",
     "output_type": "stream",
     "text": [
      "Hold the anchovies!\n"
     ]
    }
   ],
   "source": [
    "# checking nequality.\n",
    "requested_topping = 'mushrooms'\n",
    "if requested_topping != 'anchovies':\n",
    " print(\"Hold the anchovies!\")"
   ]
  },
  {
   "cell_type": "code",
   "execution_count": 18,
   "metadata": {},
   "outputs": [
    {
     "name": "stdout",
     "output_type": "stream",
     "text": [
      "You are wrong!.please try again\n"
     ]
    },
    {
     "data": {
      "text/plain": [
       "True"
      ]
     },
     "execution_count": 18,
     "metadata": {},
     "output_type": "execute_result"
    }
   ],
   "source": [
    "# Numeric function\n",
    "answer = 17\n",
    "if answer != 42:\n",
    " print(\"You are wrong!.please try again\")\n",
    "\n",
    "# Mathametical comperesion\n",
    "age = 33\n",
    "age > 50\n",
    "\n",
    "age >= 50\n",
    "age < 50\n"
   ]
  },
  {
   "cell_type": "markdown",
   "metadata": {},
   "source": [
    "# Operator and, or, not."
   ]
  },
  {
   "cell_type": "code",
   "execution_count": 19,
   "metadata": {},
   "outputs": [
    {
     "name": "stdout",
     "output_type": "stream",
     "text": [
      "Not both are adults\n"
     ]
    }
   ],
   "source": [
    "# and operator \n",
    "age_1 = 22\n",
    "age_2 = 18\n",
    "# Using the and operator to check if both conditions are met\n",
    "if age_1 > 18 and age_2 > 18:\n",
    "    print(\"Both are adults\")\n",
    "else:\n",
    "    print(\"Not both are adults\")"
   ]
  },
  {
   "cell_type": "code",
   "execution_count": 20,
   "metadata": {},
   "outputs": [
    {
     "name": "stdout",
     "output_type": "stream",
     "text": [
      "Not Adult\n"
     ]
    }
   ],
   "source": [
    "# other method \n",
    "age_1 =  22\n",
    "age_2 =  18\n",
    "\n",
    "if age_1 >= 21 and age_2 >= 21:\n",
    "    print(\"Adult\")\n",
    "else:\n",
    "    print(\"Not Adult\")"
   ]
  },
  {
   "cell_type": "code",
   "execution_count": 21,
   "metadata": {},
   "outputs": [
    {
     "name": "stdout",
     "output_type": "stream",
     "text": [
      "At least one of the ages is greater than 21\n"
     ]
    }
   ],
   "source": [
    "# or operator\n",
    "age_1 = 22\n",
    "age_2 = 18\n",
    "if age_1 >21 or age_2 >21:\n",
    "    print(\"At least one of the ages is greater than 21\") # Output: At least one\n",
    "else:\n",
    "    print(\"Both are incorrecrt\")"
   ]
  },
  {
   "cell_type": "code",
   "execution_count": 22,
   "metadata": {},
   "outputs": [
    {
     "data": {
      "text/plain": [
       "True"
      ]
     },
     "execution_count": 22,
     "metadata": {},
     "output_type": "execute_result"
    }
   ],
   "source": [
    "# To find\n",
    "age = [19,20,39,40]\n",
    "19 in age"
   ]
  },
  {
   "cell_type": "code",
   "execution_count": 23,
   "metadata": {},
   "outputs": [
    {
     "name": "stdout",
     "output_type": "stream",
     "text": [
      "Marie, you can post a response if you wish.\n"
     ]
    }
   ],
   "source": [
    "# is not in\n",
    "banned_users = ['andrew', 'carolina', 'david']\n",
    "user = 'marie'\n",
    "if user not in banned_users:\n",
    " print(f\"{user.title()}, you can post a response if you wish.\")"
   ]
  },
  {
   "cell_type": "markdown",
   "metadata": {},
   "source": [
    "# Prepration of If elif else."
   ]
  },
  {
   "cell_type": "code",
   "execution_count": 24,
   "metadata": {},
   "outputs": [
    {
     "name": "stdout",
     "output_type": "stream",
     "text": [
      "The player just earned 5 points for shooting the alien.\n"
     ]
    }
   ],
   "source": [
    "# 01 Assign the alien color to 'green'\n",
    "\n",
    "alien_color = ['green', 'yellow', 'red']\n",
    "alien_color = 'green'\n",
    "if alien_color == 'green':\n",
    "    print(\"The player just earned 5 points for shooting the alien.\")\n",
    "\n",
    "# Assign the alien color to 'red'\n",
    "alien_color = 'red'\n",
    "\n",
    "#  if the alien color is green\n",
    "if alien_color == 'green':\n",
    "    print(\"The player just earned 5 points!\")"
   ]
  },
  {
   "cell_type": "code",
   "execution_count": 25,
   "metadata": {},
   "outputs": [
    {
     "name": "stdout",
     "output_type": "stream",
     "text": [
      "The player just earned 10 points!\n"
     ]
    }
   ],
   "source": [
    "# 02 Assign alien color to green\n",
    "alien_color = 'red'\n",
    "if alien_color == 'green':\n",
    "    print(\"The player just earned 5 points for shooting the alien\")\n",
    "else:\n",
    "    print(\"The player just earned 10 points!\")"
   ]
  },
  {
   "cell_type": "code",
   "execution_count": 26,
   "metadata": {},
   "outputs": [
    {
     "name": "stdout",
     "output_type": "stream",
     "text": [
      "The player earned 15 points.\n"
     ]
    }
   ],
   "source": [
    "#03 using if elif else\n",
    "alien_color == 'red'\n",
    "if alien_color == 'green':\n",
    "    print(\"The player earned 5 points.\")\n",
    "elif alien_color == 'yellow':\n",
    "    print(\"The player earned 10 points.\")\n",
    "else :\n",
    "    print(\"The player earned 15 points.\")"
   ]
  },
  {
   "cell_type": "code",
   "execution_count": 27,
   "metadata": {},
   "outputs": [
    {
     "name": "stdout",
     "output_type": "stream",
     "text": [
      "The person is a baby.\n"
     ]
    }
   ],
   "source": [
    "# 04 Determine the person's stage of life\n",
    "# use user inputs \n",
    "\n",
    "age = int(input(\"Enter your age: \"))\n",
    "\n",
    "if age < 2:\n",
    "    print(\"The person is a baby.\")\n",
    "elif age >= 2 and age < 4:\n",
    "    print(\"The person is a toddler.\")\n",
    "elif age >= 4 and age < 13:\n",
    "    print(\"The person is a kid.\")\n",
    "elif age >= 13 and age < 20:\n",
    "    print(\"The person is a teenager.\")\n",
    "elif age >= 20 and age < 65:\n",
    "    print(\"The person is an adult.\")\n",
    "else:\n",
    "    print(\"The person is an elder.\")"
   ]
  },
  {
   "cell_type": "code",
   "execution_count": null,
   "metadata": {},
   "outputs": [],
   "source": []
  }
 ],
 "metadata": {
  "kernelspec": {
   "display_name": "Python 3",
   "language": "python",
   "name": "python3"
  },
  "language_info": {
   "codemirror_mode": {
    "name": "ipython",
    "version": 3
   },
   "file_extension": ".py",
   "mimetype": "text/x-python",
   "name": "python",
   "nbconvert_exporter": "python",
   "pygments_lexer": "ipython3",
   "version": "3.12.2"
  }
 },
 "nbformat": 4,
 "nbformat_minor": 2
}
