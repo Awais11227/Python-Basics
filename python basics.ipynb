{
 "cells": [
  {
   "cell_type": "markdown",
   "metadata": {},
   "source": [
    "# Python Basics \n",
    "# By Awais Manzoor\n",
    "# Data Analyst"
   ]
  },
  {
   "cell_type": "markdown",
   "metadata": {},
   "source": [
    "#1. Python Output"
   ]
  },
  {
   "cell_type": "code",
   "execution_count": 2,
   "metadata": {},
   "outputs": [
    {
     "name": "stdout",
     "output_type": "stream",
     "text": [
      "Hello World\n"
     ]
    }
   ],
   "source": [
    "[ ]\n",
    "# Python is a case sensitive language\n",
    "print('Hello World')"
   ]
  },
  {
   "cell_type": "code",
   "execution_count": 3,
   "metadata": {},
   "outputs": [
    {
     "name": "stdout",
     "output_type": "stream",
     "text": [
      "salman khan\n"
     ]
    }
   ],
   "source": [
    "[ ]\n",
    "print('salman khan')"
   ]
  },
  {
   "cell_type": "code",
   "execution_count": 4,
   "metadata": {},
   "outputs": [
    {
     "name": "stdout",
     "output_type": "stream",
     "text": [
      "7\n"
     ]
    }
   ],
   "source": [
    "[ ]\n",
    "print(7)"
   ]
  },
  {
   "cell_type": "code",
   "execution_count": 5,
   "metadata": {},
   "outputs": [
    {
     "name": "stdout",
     "output_type": "stream",
     "text": [
      "7.7\n"
     ]
    }
   ],
   "source": [
    "[ ]\n",
    "print(7.7)"
   ]
  },
  {
   "cell_type": "code",
   "execution_count": 6,
   "metadata": {},
   "outputs": [
    {
     "name": "stdout",
     "output_type": "stream",
     "text": [
      "True\n"
     ]
    }
   ],
   "source": [
    "print(True)"
   ]
  },
  {
   "cell_type": "code",
   "execution_count": 7,
   "metadata": {},
   "outputs": [
    {
     "name": "stdout",
     "output_type": "stream",
     "text": [
      "Hello 1 4.5 True\n"
     ]
    }
   ],
   "source": [
    "[ ]\n",
    "print('Hello',1,4.5,True)"
   ]
  },
  {
   "cell_type": "code",
   "execution_count": 8,
   "metadata": {},
   "outputs": [
    {
     "name": "stdout",
     "output_type": "stream",
     "text": [
      "Hello/1/4.5/True\n"
     ]
    }
   ],
   "source": [
    "[ ]\n",
    "print('Hello',1,4.5,True,sep='/')\n"
   ]
  },
  {
   "cell_type": "code",
   "execution_count": 9,
   "metadata": {},
   "outputs": [
    {
     "name": "stdout",
     "output_type": "stream",
     "text": [
      "hello\n",
      "world\n"
     ]
    }
   ],
   "source": [
    "[ ]\n",
    "print('hello')\n",
    "print('world')"
   ]
  },
  {
   "cell_type": "code",
   "execution_count": 10,
   "metadata": {},
   "outputs": [
    {
     "name": "stdout",
     "output_type": "stream",
     "text": [
      "hello-world\n"
     ]
    }
   ],
   "source": [
    "[ ]\n",
    "print('hello',end='-')\n",
    "print('world')\n"
   ]
  },
  {
   "cell_type": "markdown",
   "metadata": {},
   "source": [
    "\n",
    "\n",
    "# 2. Data Types"
   ]
  },
  {
   "cell_type": "code",
   "execution_count": 11,
   "metadata": {},
   "outputs": [
    {
     "name": "stdout",
     "output_type": "stream",
     "text": [
      "8\n",
      "inf\n"
     ]
    }
   ],
   "source": [
    "[ ]\n",
    "# Integer\n",
    "print(8)\n",
    "# 1*10^308\n",
    "print(1e309)"
   ]
  },
  {
   "cell_type": "code",
   "execution_count": 12,
   "metadata": {},
   "outputs": [
    {
     "name": "stdout",
     "output_type": "stream",
     "text": [
      "8.55\n",
      "inf\n"
     ]
    }
   ],
   "source": [
    "[ ]\n",
    "# Decimal/Float\n",
    "print(8.55)\n",
    "print(1.7e309)"
   ]
  },
  {
   "cell_type": "code",
   "execution_count": 13,
   "metadata": {},
   "outputs": [
    {
     "name": "stdout",
     "output_type": "stream",
     "text": [
      "True\n",
      "False\n"
     ]
    }
   ],
   "source": [
    "[ ]\n",
    "# Boolean\n",
    "print(True)\n",
    "print(False)"
   ]
  },
  {
   "cell_type": "code",
   "execution_count": 14,
   "metadata": {},
   "outputs": [
    {
     "name": "stdout",
     "output_type": "stream",
     "text": [
      "Hello World\n"
     ]
    }
   ],
   "source": [
    "[ ]\n",
    "# Text/String\n",
    "print('Hello World')"
   ]
  },
  {
   "cell_type": "code",
   "execution_count": 15,
   "metadata": {},
   "outputs": [
    {
     "name": "stdout",
     "output_type": "stream",
     "text": [
      "(5+6j)\n"
     ]
    }
   ],
   "source": [
    "[ ]\n",
    "# complex\n",
    "print(5+6j)"
   ]
  },
  {
   "cell_type": "code",
   "execution_count": 16,
   "metadata": {},
   "outputs": [
    {
     "name": "stdout",
     "output_type": "stream",
     "text": [
      "[1, 2, 3, 4, 5]\n"
     ]
    }
   ],
   "source": [
    "[ ]\n",
    "# List-> C-> Array\n",
    "print([1,2,3,4,5])"
   ]
  },
  {
   "cell_type": "code",
   "execution_count": 17,
   "metadata": {},
   "outputs": [
    {
     "name": "stdout",
     "output_type": "stream",
     "text": [
      "(1, 2, 3, 4, 5)\n"
     ]
    }
   ],
   "source": [
    "[ ]\n",
    "# Tuple\n",
    "print((1,2,3,4,5))"
   ]
  },
  {
   "cell_type": "code",
   "execution_count": 18,
   "metadata": {},
   "outputs": [
    {
     "name": "stdout",
     "output_type": "stream",
     "text": [
      "{1, 2, 3, 4, 5}\n"
     ]
    }
   ],
   "source": [
    "[ ]\n",
    "# Sets\n",
    "print({1,2,3,4,5})"
   ]
  },
  {
   "cell_type": "code",
   "execution_count": 19,
   "metadata": {},
   "outputs": [
    {
     "name": "stdout",
     "output_type": "stream",
     "text": [
      "{'name': 'Nitish', 'gender': 'Male', 'weight': 70}\n"
     ]
    }
   ],
   "source": [
    "[ ]\n",
    "# Dictionary\n",
    "print({'name':'Nitish','gender':'Male','weight':70})"
   ]
  },
  {
   "cell_type": "code",
   "execution_count": 20,
   "metadata": {},
   "outputs": [
    {
     "data": {
      "text/plain": [
       "list"
      ]
     },
     "execution_count": 20,
     "metadata": {},
     "output_type": "execute_result"
    }
   ],
   "source": [
    "\n",
    "[ ]\n",
    "# type\n",
    "type([1,2,3])"
   ]
  },
  {
   "cell_type": "markdown",
   "metadata": {},
   "source": [
    "# 3. Variables"
   ]
  },
  {
   "cell_type": "code",
   "execution_count": 21,
   "metadata": {},
   "outputs": [
    {
     "name": "stdout",
     "output_type": "stream",
     "text": [
      "nitish\n"
     ]
    }
   ],
   "source": [
    "[ ]\n",
    "# Static Vs Dynamic Typing\n",
    "# Static Vs Dynamic Binding\n",
    "# stylish declaration techniques\n",
    "\n",
    "[ ]\n",
    "# C/C++\n",
    "name = 'nitish'\n",
    "print(name)"
   ]
  },
  {
   "cell_type": "code",
   "execution_count": 23,
   "metadata": {},
   "outputs": [],
   "source": [
    "[ ]\n",
    "# Dynamic Typing\n",
    "a = 5\n"
   ]
  },
  {
   "cell_type": "code",
   "execution_count": 24,
   "metadata": {},
   "outputs": [
    {
     "name": "stdout",
     "output_type": "stream",
     "text": [
      "5\n",
      "nitish\n"
     ]
    }
   ],
   "source": [
    "[ ]\n",
    "# Dynamic Binding\n",
    "a = 5\n",
    "print(a)\n",
    "a = 'nitish'\n",
    "print(a)\n"
   ]
  },
  {
   "cell_type": "code",
   "execution_count": 26,
   "metadata": {},
   "outputs": [
    {
     "name": "stdout",
     "output_type": "stream",
     "text": [
      "1 2 3\n"
     ]
    }
   ],
   "source": [
    "# Initializing a variable\n",
    "a = 5  # Initial value of 'a'\n",
    "\n",
    "# Assigning new values to multiple variables\n",
    "a, b, c = 1, 2, 3\n",
    "\n",
    "# Printing the variables\n",
    "print(a, b, c)\n"
   ]
  },
  {
   "cell_type": "markdown",
   "metadata": {},
   "source": [
    "# 4. Comments "
   ]
  },
  {
   "cell_type": "code",
   "execution_count": 27,
   "metadata": {},
   "outputs": [
    {
     "name": "stdout",
     "output_type": "stream",
     "text": [
      "10\n"
     ]
    },
    {
     "data": {
      "text/plain": [
       "10"
      ]
     },
     "execution_count": 27,
     "metadata": {},
     "output_type": "execute_result"
    }
   ],
   "source": [
    "\n",
    "\n",
    "[ ]\n",
    "# this is a comment\n",
    "# second line\n",
    "a = 4\n",
    "b = 6 # like this\n",
    "# second comment\n",
    "print(a+b)\n",
    "10"
   ]
  },
  {
   "cell_type": "markdown",
   "metadata": {},
   "source": [
    "# 5. Keywords & Identifiers"
   ]
  },
  {
   "cell_type": "code",
   "execution_count": 30,
   "metadata": {},
   "outputs": [
    {
     "name": "stdout",
     "output_type": "stream",
     "text": [
      "Nitish\n"
     ]
    }
   ],
   "source": [
    "\n",
    "\n",
    "[ ]\n",
    "# Keywords\n",
    "\n",
    "[ ]\n",
    "# Identifiers\n",
    "# You can't start with a digit\n",
    "name1 = 'Nitish'\n",
    "name2 = 'Rahul'\n",
    "print(name1)"
   ]
  },
  {
   "cell_type": "code",
   "execution_count": 31,
   "metadata": {},
   "outputs": [
    {
     "name": "stdout",
     "output_type": "stream",
     "text": [
      "ntiish\n"
     ]
    }
   ],
   "source": [
    "# You can use special chars -> _\n",
    "_ = 'ntiish'\n",
    "print(_)"
   ]
  },
  {
   "cell_type": "code",
   "execution_count": null,
   "metadata": {},
   "outputs": [],
   "source": [
    "# identiers can not be keyword\n",
    "\"\"\"Nitish\n",
    "ntiish\n",
    "Temp Heading\"\"\""
   ]
  },
  {
   "cell_type": "markdown",
   "metadata": {},
   "source": [
    "# 6. User Input"
   ]
  },
  {
   "cell_type": "code",
   "execution_count": 33,
   "metadata": {},
   "outputs": [
    {
     "name": "stdout",
     "output_type": "stream",
     "text": [
      "<class 'int'> <class 'int'>\n"
     ]
    }
   ],
   "source": [
    "[ ]\n",
    "# Static Vs Dynamic\n",
    "input('Enter Email')\n",
    "\n",
    "\n",
    "[ ]\n",
    "# take input from users and store them in a variable\n",
    "fnum = int(input('enter first number'))\n",
    "snum = int(input('enter second number'))\n",
    "print(type(fnum),type(snum))"
   ]
  },
  {
   "cell_type": "code",
   "execution_count": 35,
   "metadata": {},
   "outputs": [
    {
     "name": "stdout",
     "output_type": "stream",
     "text": [
      "5\n",
      "<class 'int'>\n"
     ]
    }
   ],
   "source": [
    "# add the 2 variables\n",
    "result = fnum + snum\n",
    "# print the result\n",
    "print(result)\n",
    "print(type(fnum))"
   ]
  },
  {
   "cell_type": "markdown",
   "metadata": {},
   "source": [
    "# 7. Type Conversion"
   ]
  },
  {
   "cell_type": "code",
   "execution_count": 36,
   "metadata": {},
   "outputs": [
    {
     "name": "stdout",
     "output_type": "stream",
     "text": [
      "10.6\n",
      "<class 'int'> <class 'float'>\n"
     ]
    }
   ],
   "source": [
    "\n",
    "[ ]\n",
    "# Implicit Vs Explicit\n",
    "print(5+5.6)\n",
    "print(type(5),type(5.6))"
   ]
  },
  {
   "cell_type": "code",
   "execution_count": 37,
   "metadata": {},
   "outputs": [
    {
     "data": {
      "text/plain": [
       "[]"
      ]
     },
     "execution_count": 37,
     "metadata": {},
     "output_type": "execute_result"
    }
   ],
   "source": [
    "\n",
    "[ ]\n",
    "# Explicit\n",
    "# str -> int\n",
    "#int(4+5j)"
   ]
  },
  {
   "cell_type": "code",
   "execution_count": 38,
   "metadata": {},
   "outputs": [
    {
     "data": {
      "text/plain": [
       "'5'"
      ]
     },
     "execution_count": 38,
     "metadata": {},
     "output_type": "execute_result"
    }
   ],
   "source": [
    "\n",
    "# int to str\n",
    "str(5)"
   ]
  },
  {
   "cell_type": "code",
   "execution_count": 39,
   "metadata": {},
   "outputs": [
    {
     "data": {
      "text/plain": [
       "4.0"
      ]
     },
     "execution_count": 39,
     "metadata": {},
     "output_type": "execute_result"
    }
   ],
   "source": [
    "# float\n",
    "float(4)"
   ]
  },
  {
   "cell_type": "markdown",
   "metadata": {},
   "source": [
    "# 8. Literals"
   ]
  },
  {
   "cell_type": "code",
   "execution_count": 40,
   "metadata": {},
   "outputs": [],
   "source": [
    "[ ]\n",
    "a = 0b1010 #Binary Literals\n",
    "b = 100 #Decimal Literal \n",
    "c = 0o310 #Octal Literal\n",
    "d = 0x12c #Hexadecimal Literal\n"
   ]
  },
  {
   "cell_type": "code",
   "execution_count": 41,
   "metadata": {},
   "outputs": [],
   "source": [
    "#Float Literal\n",
    "float_1 = 10.5 \n",
    "float_2 = 1.5e2 # 1.5 * 10^2\n",
    "float_3 = 1.5e-3 # 1.5 * 10^-3"
   ]
  },
  {
   "cell_type": "code",
   "execution_count": 42,
   "metadata": {},
   "outputs": [
    {
     "name": "stdout",
     "output_type": "stream",
     "text": [
      "10 100 200 300\n",
      "10.5 150.0 0.0015\n",
      "3.14j 3.14 0.0\n"
     ]
    }
   ],
   "source": [
    "\n",
    "#Complex Literal \n",
    "x = 3.14j\n",
    "\n",
    "print(a, b, c, d)\n",
    "print(float_1, float_2,float_3)\n",
    "print(x, x.imag, x.real)\n"
   ]
  },
  {
   "cell_type": "code",
   "execution_count": 43,
   "metadata": {},
   "outputs": [
    {
     "name": "stdout",
     "output_type": "stream",
     "text": [
      "3.14\n"
     ]
    }
   ],
   "source": [
    "[ ]\n",
    "# binary\n",
    "x = 3.14j\n",
    "print(x.imag)"
   ]
  },
  {
   "cell_type": "code",
   "execution_count": 44,
   "metadata": {},
   "outputs": [],
   "source": [
    "[ ]\n",
    "string = 'This is Python'\n",
    "strings = \"This is Python\"\n",
    "char = \"C\""
   ]
  },
  {
   "cell_type": "code",
   "execution_count": 46,
   "metadata": {},
   "outputs": [
    {
     "name": "stdout",
     "output_type": "stream",
     "text": [
      "This is Python\n",
      "This is Python\n",
      "C\n",
      "This is a multiline string with more than one line code.\n",
      "😀😆🤣\n",
      "raw \\n string\n"
     ]
    }
   ],
   "source": [
    "\n",
    "multiline_str = \"\"\"This is a multiline string with more than one line code.\"\"\"\n",
    "unicode = u\"\\U0001f600\\U0001F606\\U0001F923\"\n",
    "raw_str = r\"raw \\n string\"\n",
    "print(string)\n",
    "print(strings)\n",
    "print(char)\n",
    "print(multiline_str)\n",
    "print(unicode)\n",
    "print(raw_str)"
   ]
  },
  {
   "cell_type": "code",
   "execution_count": 47,
   "metadata": {},
   "outputs": [
    {
     "name": "stdout",
     "output_type": "stream",
     "text": [
      "a: 5\n",
      "b: 10\n"
     ]
    }
   ],
   "source": [
    "[ ]\n",
    "a = True + 4\n",
    "b = False + 10\n",
    "\n",
    "print(\"a:\", a)\n",
    "print(\"b:\", b)"
   ]
  },
  {
   "cell_type": "code",
   "execution_count": 48,
   "metadata": {},
   "outputs": [
    {
     "name": "stdout",
     "output_type": "stream",
     "text": [
      "Program exe\n"
     ]
    }
   ],
   "source": [
    "[ ]\n",
    "k = None\n",
    "a = 5\n",
    "b = 6\n",
    "print('Program exe')\n"
   ]
  },
  {
   "cell_type": "markdown",
   "metadata": {},
   "source": [
    "#9. Operators"
   ]
  },
  {
   "cell_type": "code",
   "execution_count": 49,
   "metadata": {},
   "outputs": [
    {
     "data": {
      "text/plain": [
       "[]"
      ]
     },
     "execution_count": 49,
     "metadata": {},
     "output_type": "execute_result"
    }
   ],
   "source": [
    "[ ]\n",
    "# Arithmetic\n",
    "# Relational\n",
    "# Logical\n",
    "# Bitwise\n",
    "# Assignment\n",
    "# Membership"
   ]
  },
  {
   "cell_type": "code",
   "execution_count": null,
   "metadata": {},
   "outputs": [],
   "source": [
    "# Arithmetic Operators\n",
    "a = 10\n",
    "b = 3\n",
    "print(\"Arithmetic Operators:\")\n",
    "print(f\"Addition: {a} + {b} = {a + b}\")\n",
    "print(f\"Subtraction: {a} - {b} = {a - b}\")\n",
    "print(f\"Multiplication: {a} * {b} = {a * b}\")\n",
    "print(f\"Division: {a} / {b} = {a / b}\")\n",
    "print(f\"Modulus: {a} % {b} = {a % b}\")\n",
    "print(f\"Exponentiation: {a} ** {b} = {a ** b}\")\n",
    "print(f\"Floor Division: {a} // {b} = {a // b}\\n\")"
   ]
  },
  {
   "cell_type": "code",
   "execution_count": null,
   "metadata": {},
   "outputs": [],
   "source": [
    "# Relational Operators\n",
    "print(\"Relational Operators:\")\n",
    "print(f\"{a} > {b} is {a > b}\")\n",
    "print(f\"{a} < {b} is {a < b}\")\n",
    "print(f\"{a} == {b} is {a == b}\")\n",
    "print(f\"{a} != {b} is {a != b}\")\n",
    "print(f\"{a} >= {b} is {a >= b}\")\n",
    "print(f\"{a} <= {b} is {a <= b}\\n\")"
   ]
  },
  {
   "cell_type": "code",
   "execution_count": null,
   "metadata": {},
   "outputs": [],
   "source": [
    "# Logical Operators\n",
    "x = True\n",
    "y = False\n",
    "print(\"Logical Operators:\")\n",
    "print(f\"x and y is {x and y}\")\n",
    "print(f\"x or y is {x or y}\")\n",
    "print(f\"not x is {not x}\\n\")"
   ]
  },
  {
   "cell_type": "code",
   "execution_count": null,
   "metadata": {},
   "outputs": [],
   "source": [
    "# Bitwise Operators\n",
    "p = 5  # 101 in binary\n",
    "q = 3  # 011 in binary\n",
    "print(\"Bitwise Operators:\")\n",
    "print(f\"p & q (AND): {p & q}\")\n",
    "print(f\"p | q (OR): {p | q}\")\n",
    "print(f\"p ^ q (XOR): {p ^ q}\")\n",
    "print(f\"~p (NOT): {~p}\")\n",
    "print(f\"p << 1 (Left Shift): {p << 1}\")\n",
    "print(f\"p >> 1 (Right Shift): {p >> 1}\\n\")"
   ]
  },
  {
   "cell_type": "code",
   "execution_count": null,
   "metadata": {},
   "outputs": [],
   "source": [
    "# Assignment Operators\n",
    "print(\"Assignment Operators:\")\n",
    "c = a + b  # Addition and assignment\n",
    "print(f\"c = {c}\")\n",
    "c += 5  # Add and assign\n",
    "print(f\"c += 5 -> c = {c}\")\n",
    "c *= 2  # Multiply and assign\n",
    "print(f\"c *= 2 -> c = {c}\")\n",
    "c //= 3  # Floor division and assign\n",
    "print(f\"c //= 3 -> c = {c}\\n\")"
   ]
  },
  {
   "cell_type": "code",
   "execution_count": null,
   "metadata": {},
   "outputs": [],
   "source": [
    "# Membership Operators\n",
    "my_list = [1, 2, 3, 4, 5]\n",
    "print(\"Membership Operators:\")\n",
    "print(f\"3 in my_list: {3 in my_list}\")\n",
    "print(f\"10 in my_list: {10 in my_list}\")\n",
    "print(f\"6 not in my_list: {6 not in my_list}\")"
   ]
  },
  {
   "cell_type": "markdown",
   "metadata": {},
   "source": [
    "# 10. If-Else"
   ]
  },
  {
   "cell_type": "code",
   "execution_count": null,
   "metadata": {},
   "outputs": [],
   "source": [
    "# Input a number from the user\n",
    "number = int(input(\"Enter a number: \"))\n",
    "\n",
    "# Check if the number is positive, negative, or zero\n",
    "if number > 0:\n",
    "    print(f\"The number {number} is positive.\")\n",
    "elif number < 0:\n",
    "    print(f\"The number {number} is negative.\")\n",
    "else:\n",
    "    print(f\"The number is zero.\")\n"
   ]
  },
  {
   "cell_type": "code",
   "execution_count": null,
   "metadata": {},
   "outputs": [],
   "source": [
    "# Input marks from the user\n",
    "marks = int(input(\"Enter your marks: \"))\n",
    "\n",
    "# Determine the grade based on marks\n",
    "if marks >= 90:\n",
    "    grade = \"A\"\n",
    "elif marks >= 80:\n",
    "    grade = \"B\"\n",
    "elif marks >= 70:\n",
    "    grade = \"C\"\n",
    "elif marks >= 60:\n",
    "    grade = \"D\"\n",
    "else:\n",
    "    grade = \"Fail\"\n",
    "\n",
    "# Output the grade\n",
    "print(f\"Your grade is: {grade}\")\n"
   ]
  }
 ],
 "metadata": {
  "kernelspec": {
   "display_name": "Python 3",
   "language": "python",
   "name": "python3"
  },
  "language_info": {
   "codemirror_mode": {
    "name": "ipython",
    "version": 3
   },
   "file_extension": ".py",
   "mimetype": "text/x-python",
   "name": "python",
   "nbconvert_exporter": "python",
   "pygments_lexer": "ipython3",
   "version": "3.12.2"
  }
 },
 "nbformat": 4,
 "nbformat_minor": 2
}
